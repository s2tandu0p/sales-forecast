{
  "nbformat": 4,
  "nbformat_minor": 0,
  "metadata": {
    "colab": {
      "name": "Sales Predictions_Loading data.ipynb",
      "provenance": [],
      "collapsed_sections": [],
      "authorship_tag": "ABX9TyMA6IPu5xJAxeNtd5VjggVP",
      "include_colab_link": true
    },
    "kernelspec": {
      "name": "python3",
      "display_name": "Python 3"
    },
    "language_info": {
      "name": "python"
    }
  },
  "cells": [
    {
      "cell_type": "markdown",
      "metadata": {
        "id": "view-in-github",
        "colab_type": "text"
      },
      "source": [
        "<a href=\"https://colab.research.google.com/github/s2tandu0p/sales-forecast/blob/main/Sales_Predictions_Loading_data.ipynb\" target=\"_parent\"><img src=\"https://colab.research.google.com/assets/colab-badge.svg\" alt=\"Open In Colab\"/></a>"
      ]
    },
    {
      "cell_type": "code",
      "metadata": {
        "colab": {
          "base_uri": "https://localhost:8080/"
        },
        "id": "J3rmBSZSHWqL",
        "outputId": "90e98387-1a00-47b3-f8e2-c58e9c158000"
      },
      "source": [
        "from google.colab import drive\n",
        "drive.mount('/content/drive')"
      ],
      "execution_count": 131,
      "outputs": [
        {
          "output_type": "stream",
          "name": "stdout",
          "text": [
            "Drive already mounted at /content/drive; to attempt to forcibly remount, call drive.mount(\"/content/drive\", force_remount=True).\n"
          ]
        }
      ]
    },
    {
      "cell_type": "code",
      "metadata": {
        "colab": {
          "base_uri": "https://localhost:8080/",
          "height": 312
        },
        "id": "MHFvb7uVP0Bf",
        "outputId": "9d9dc4b1-b6ce-4ea8-d0f7-e5911c07a3a2"
      },
      "source": [
        "import pandas as pd\n",
        "filename = '/content/drive/MyDrive/Personal/Dojo Data/data/sales_predictions.csv'\n",
        "df = pd.read_csv(filename)\n",
        "df.head()"
      ],
      "execution_count": 132,
      "outputs": [
        {
          "output_type": "execute_result",
          "data": {
            "text/html": [
              "<div>\n",
              "<style scoped>\n",
              "    .dataframe tbody tr th:only-of-type {\n",
              "        vertical-align: middle;\n",
              "    }\n",
              "\n",
              "    .dataframe tbody tr th {\n",
              "        vertical-align: top;\n",
              "    }\n",
              "\n",
              "    .dataframe thead th {\n",
              "        text-align: right;\n",
              "    }\n",
              "</style>\n",
              "<table border=\"1\" class=\"dataframe\">\n",
              "  <thead>\n",
              "    <tr style=\"text-align: right;\">\n",
              "      <th></th>\n",
              "      <th>Item_Identifier</th>\n",
              "      <th>Item_Weight</th>\n",
              "      <th>Item_Fat_Content</th>\n",
              "      <th>Item_Visibility</th>\n",
              "      <th>Item_Type</th>\n",
              "      <th>Item_MRP</th>\n",
              "      <th>Outlet_Identifier</th>\n",
              "      <th>Outlet_Establishment_Year</th>\n",
              "      <th>Outlet_Size</th>\n",
              "      <th>Outlet_Location_Type</th>\n",
              "      <th>Outlet_Type</th>\n",
              "      <th>Item_Outlet_Sales</th>\n",
              "    </tr>\n",
              "  </thead>\n",
              "  <tbody>\n",
              "    <tr>\n",
              "      <th>0</th>\n",
              "      <td>FDA15</td>\n",
              "      <td>9.30</td>\n",
              "      <td>Low Fat</td>\n",
              "      <td>0.016047</td>\n",
              "      <td>Dairy</td>\n",
              "      <td>249.8092</td>\n",
              "      <td>OUT049</td>\n",
              "      <td>1999</td>\n",
              "      <td>Medium</td>\n",
              "      <td>Tier 1</td>\n",
              "      <td>Supermarket Type1</td>\n",
              "      <td>3735.1380</td>\n",
              "    </tr>\n",
              "    <tr>\n",
              "      <th>1</th>\n",
              "      <td>DRC01</td>\n",
              "      <td>5.92</td>\n",
              "      <td>Regular</td>\n",
              "      <td>0.019278</td>\n",
              "      <td>Soft Drinks</td>\n",
              "      <td>48.2692</td>\n",
              "      <td>OUT018</td>\n",
              "      <td>2009</td>\n",
              "      <td>Medium</td>\n",
              "      <td>Tier 3</td>\n",
              "      <td>Supermarket Type2</td>\n",
              "      <td>443.4228</td>\n",
              "    </tr>\n",
              "    <tr>\n",
              "      <th>2</th>\n",
              "      <td>FDN15</td>\n",
              "      <td>17.50</td>\n",
              "      <td>Low Fat</td>\n",
              "      <td>0.016760</td>\n",
              "      <td>Meat</td>\n",
              "      <td>141.6180</td>\n",
              "      <td>OUT049</td>\n",
              "      <td>1999</td>\n",
              "      <td>Medium</td>\n",
              "      <td>Tier 1</td>\n",
              "      <td>Supermarket Type1</td>\n",
              "      <td>2097.2700</td>\n",
              "    </tr>\n",
              "    <tr>\n",
              "      <th>3</th>\n",
              "      <td>FDX07</td>\n",
              "      <td>19.20</td>\n",
              "      <td>Regular</td>\n",
              "      <td>0.000000</td>\n",
              "      <td>Fruits and Vegetables</td>\n",
              "      <td>182.0950</td>\n",
              "      <td>OUT010</td>\n",
              "      <td>1998</td>\n",
              "      <td>NaN</td>\n",
              "      <td>Tier 3</td>\n",
              "      <td>Grocery Store</td>\n",
              "      <td>732.3800</td>\n",
              "    </tr>\n",
              "    <tr>\n",
              "      <th>4</th>\n",
              "      <td>NCD19</td>\n",
              "      <td>8.93</td>\n",
              "      <td>Low Fat</td>\n",
              "      <td>0.000000</td>\n",
              "      <td>Household</td>\n",
              "      <td>53.8614</td>\n",
              "      <td>OUT013</td>\n",
              "      <td>1987</td>\n",
              "      <td>High</td>\n",
              "      <td>Tier 3</td>\n",
              "      <td>Supermarket Type1</td>\n",
              "      <td>994.7052</td>\n",
              "    </tr>\n",
              "  </tbody>\n",
              "</table>\n",
              "</div>"
            ],
            "text/plain": [
              "  Item_Identifier  Item_Weight  ...        Outlet_Type  Item_Outlet_Sales\n",
              "0           FDA15         9.30  ...  Supermarket Type1          3735.1380\n",
              "1           DRC01         5.92  ...  Supermarket Type2           443.4228\n",
              "2           FDN15        17.50  ...  Supermarket Type1          2097.2700\n",
              "3           FDX07        19.20  ...      Grocery Store           732.3800\n",
              "4           NCD19         8.93  ...  Supermarket Type1           994.7052\n",
              "\n",
              "[5 rows x 12 columns]"
            ]
          },
          "metadata": {},
          "execution_count": 132
        }
      ]
    },
    {
      "cell_type": "markdown",
      "metadata": {
        "id": "ucsFjgux2U4G"
      },
      "source": [
        "1. How many rows and columns? ***8523 rows and 12 columns***\n",
        "\n",
        "---\n",
        "\n"
      ]
    },
    {
      "cell_type": "code",
      "metadata": {
        "colab": {
          "base_uri": "https://localhost:8080/"
        },
        "id": "sOQ__KI02B_8",
        "outputId": "340eff86-0725-4deb-b107-f1fbd70b1eed"
      },
      "source": [
        "df.info()"
      ],
      "execution_count": 133,
      "outputs": [
        {
          "output_type": "stream",
          "name": "stdout",
          "text": [
            "<class 'pandas.core.frame.DataFrame'>\n",
            "RangeIndex: 8523 entries, 0 to 8522\n",
            "Data columns (total 12 columns):\n",
            " #   Column                     Non-Null Count  Dtype  \n",
            "---  ------                     --------------  -----  \n",
            " 0   Item_Identifier            8523 non-null   object \n",
            " 1   Item_Weight                7060 non-null   float64\n",
            " 2   Item_Fat_Content           8523 non-null   object \n",
            " 3   Item_Visibility            8523 non-null   float64\n",
            " 4   Item_Type                  8523 non-null   object \n",
            " 5   Item_MRP                   8523 non-null   float64\n",
            " 6   Outlet_Identifier          8523 non-null   object \n",
            " 7   Outlet_Establishment_Year  8523 non-null   int64  \n",
            " 8   Outlet_Size                6113 non-null   object \n",
            " 9   Outlet_Location_Type       8523 non-null   object \n",
            " 10  Outlet_Type                8523 non-null   object \n",
            " 11  Item_Outlet_Sales          8523 non-null   float64\n",
            "dtypes: float64(4), int64(1), object(7)\n",
            "memory usage: 799.2+ KB\n"
          ]
        }
      ]
    },
    {
      "cell_type": "markdown",
      "metadata": {
        "id": "UNGQ-pfs2Ksc"
      },
      "source": [
        "2. what are the datatypes of each variable"
      ]
    },
    {
      "cell_type": "code",
      "metadata": {
        "colab": {
          "base_uri": "https://localhost:8080/"
        },
        "id": "Dpon__PI2nnC",
        "outputId": "fde82998-4e78-4089-b3f8-31283ac3b8c8"
      },
      "source": [
        "df.dtypes"
      ],
      "execution_count": 134,
      "outputs": [
        {
          "output_type": "execute_result",
          "data": {
            "text/plain": [
              "Item_Identifier               object\n",
              "Item_Weight                  float64\n",
              "Item_Fat_Content              object\n",
              "Item_Visibility              float64\n",
              "Item_Type                     object\n",
              "Item_MRP                     float64\n",
              "Outlet_Identifier             object\n",
              "Outlet_Establishment_Year      int64\n",
              "Outlet_Size                   object\n",
              "Outlet_Location_Type          object\n",
              "Outlet_Type                   object\n",
              "Item_Outlet_Sales            float64\n",
              "dtype: object"
            ]
          },
          "metadata": {},
          "execution_count": 134
        }
      ]
    },
    {
      "cell_type": "markdown",
      "metadata": {
        "id": "MJG_Nw3D3DkS"
      },
      "source": [
        "3. are there duplicates? if so, drop any duplicates*** No***"
      ]
    },
    {
      "cell_type": "code",
      "metadata": {
        "colab": {
          "base_uri": "https://localhost:8080/"
        },
        "id": "DHCohGSr3Alw",
        "outputId": "ab92e3b5-18bc-4cf5-efb7-b5426b9e3c99"
      },
      "source": [
        "df.duplicated().sum()"
      ],
      "execution_count": 135,
      "outputs": [
        {
          "output_type": "execute_result",
          "data": {
            "text/plain": [
              "0"
            ]
          },
          "metadata": {},
          "execution_count": 135
        }
      ]
    },
    {
      "cell_type": "code",
      "metadata": {
        "colab": {
          "base_uri": "https://localhost:8080/",
          "height": 69
        },
        "id": "y1-J-ajV7PzB",
        "outputId": "270b15c4-7551-4709-8b0c-a63442c87fee"
      },
      "source": [
        "df.loc[df.duplicated(), :]"
      ],
      "execution_count": 136,
      "outputs": [
        {
          "output_type": "execute_result",
          "data": {
            "text/html": [
              "<div>\n",
              "<style scoped>\n",
              "    .dataframe tbody tr th:only-of-type {\n",
              "        vertical-align: middle;\n",
              "    }\n",
              "\n",
              "    .dataframe tbody tr th {\n",
              "        vertical-align: top;\n",
              "    }\n",
              "\n",
              "    .dataframe thead th {\n",
              "        text-align: right;\n",
              "    }\n",
              "</style>\n",
              "<table border=\"1\" class=\"dataframe\">\n",
              "  <thead>\n",
              "    <tr style=\"text-align: right;\">\n",
              "      <th></th>\n",
              "      <th>Item_Identifier</th>\n",
              "      <th>Item_Weight</th>\n",
              "      <th>Item_Fat_Content</th>\n",
              "      <th>Item_Visibility</th>\n",
              "      <th>Item_Type</th>\n",
              "      <th>Item_MRP</th>\n",
              "      <th>Outlet_Identifier</th>\n",
              "      <th>Outlet_Establishment_Year</th>\n",
              "      <th>Outlet_Size</th>\n",
              "      <th>Outlet_Location_Type</th>\n",
              "      <th>Outlet_Type</th>\n",
              "      <th>Item_Outlet_Sales</th>\n",
              "    </tr>\n",
              "  </thead>\n",
              "  <tbody>\n",
              "  </tbody>\n",
              "</table>\n",
              "</div>"
            ],
            "text/plain": [
              "Empty DataFrame\n",
              "Columns: [Item_Identifier, Item_Weight, Item_Fat_Content, Item_Visibility, Item_Type, Item_MRP, Outlet_Identifier, Outlet_Establishment_Year, Outlet_Size, Outlet_Location_Type, Outlet_Type, Item_Outlet_Sales]\n",
              "Index: []"
            ]
          },
          "metadata": {},
          "execution_count": 136
        }
      ]
    },
    {
      "cell_type": "markdown",
      "metadata": {
        "id": "chKZQfH48sRj"
      },
      "source": [
        "4,5,&6. Identify missing values"
      ]
    },
    {
      "cell_type": "code",
      "metadata": {
        "colab": {
          "base_uri": "https://localhost:8080/"
        },
        "id": "PFREdgg78u4e",
        "outputId": "840170e9-1b85-4659-f1e0-3ab0210e7baa"
      },
      "source": [
        "# look for missing values\n",
        "df.isnull().sum()"
      ],
      "execution_count": 137,
      "outputs": [
        {
          "output_type": "execute_result",
          "data": {
            "text/plain": [
              "Item_Identifier                 0\n",
              "Item_Weight                  1463\n",
              "Item_Fat_Content                0\n",
              "Item_Visibility                 0\n",
              "Item_Type                       0\n",
              "Item_MRP                        0\n",
              "Outlet_Identifier               0\n",
              "Outlet_Establishment_Year       0\n",
              "Outlet_Size                  2410\n",
              "Outlet_Location_Type            0\n",
              "Outlet_Type                     0\n",
              "Item_Outlet_Sales               0\n",
              "dtype: int64"
            ]
          },
          "metadata": {},
          "execution_count": 137
        }
      ]
    },
    {
      "cell_type": "code",
      "metadata": {
        "colab": {
          "base_uri": "https://localhost:8080/"
        },
        "id": "DMhfjnjw9jkR",
        "outputId": "e62f2a8e-cc7a-4466-eaa7-d68cecd2dfad"
      },
      "source": [
        "# create a new df with missing values\n",
        "missing_df = df[['Item_Weight', 'Outlet_Size']]\n",
        "missing_df.head()\n",
        "\n",
        "# I have weight missing here assuming that's the weight of the product\n",
        "# based on my limited knowledge of this data set;\n",
        "# i do not believe weight is going to affect the sales, without knowing the unit\n",
        "# so for missing weight, i'm going to use average to fill in missing data for weight\n",
        "\n",
        "df['Item_Weight'].fillna(df['Item_Weight'].mean(), inplace = True)\n",
        "df['Item_Weight'].isnull().sum()\n",
        "df.head()\n",
        "\n",
        "# for missing outlet size\n",
        "# i do believe the size of the outlet would affect sales\n",
        "# human nature\n",
        "# some might want to go to smaller stores and some big stores\n",
        "# i'd like to do multiple with large, small, medium fillna\n",
        "# but due to time, i'm going to use 'Medium' to fillna\n",
        "\n",
        "df['Outlet_Size'].fillna('Medium', inplace = True)\n",
        "df['Outlet_Size'].isnull().sum()\n",
        "\n",
        "df.head()\n",
        "df.info()\n",
        "df.duplicated().sum()"
      ],
      "execution_count": 138,
      "outputs": [
        {
          "output_type": "stream",
          "name": "stdout",
          "text": [
            "<class 'pandas.core.frame.DataFrame'>\n",
            "RangeIndex: 8523 entries, 0 to 8522\n",
            "Data columns (total 12 columns):\n",
            " #   Column                     Non-Null Count  Dtype  \n",
            "---  ------                     --------------  -----  \n",
            " 0   Item_Identifier            8523 non-null   object \n",
            " 1   Item_Weight                8523 non-null   float64\n",
            " 2   Item_Fat_Content           8523 non-null   object \n",
            " 3   Item_Visibility            8523 non-null   float64\n",
            " 4   Item_Type                  8523 non-null   object \n",
            " 5   Item_MRP                   8523 non-null   float64\n",
            " 6   Outlet_Identifier          8523 non-null   object \n",
            " 7   Outlet_Establishment_Year  8523 non-null   int64  \n",
            " 8   Outlet_Size                8523 non-null   object \n",
            " 9   Outlet_Location_Type       8523 non-null   object \n",
            " 10  Outlet_Type                8523 non-null   object \n",
            " 11  Item_Outlet_Sales          8523 non-null   float64\n",
            "dtypes: float64(4), int64(1), object(7)\n",
            "memory usage: 799.2+ KB\n"
          ]
        },
        {
          "output_type": "execute_result",
          "data": {
            "text/plain": [
              "0"
            ]
          },
          "metadata": {},
          "execution_count": 138
        }
      ]
    },
    {
      "cell_type": "markdown",
      "metadata": {
        "id": "GREQ-UHTEpvD"
      },
      "source": [
        "7. find and fix any inconsistent categories of data\n"
      ]
    },
    {
      "cell_type": "code",
      "metadata": {
        "colab": {
          "base_uri": "https://localhost:8080/"
        },
        "id": "I81_VRu-Euuq",
        "outputId": "85465112-3dec-4e42-ac49-1eaab18d8c04"
      },
      "source": [
        "# look for unique values for each column\n",
        "for col in df:\n",
        "    print(df[col].unique())"
      ],
      "execution_count": 139,
      "outputs": [
        {
          "output_type": "stream",
          "name": "stdout",
          "text": [
            "['FDA15' 'DRC01' 'FDN15' ... 'NCF55' 'NCW30' 'NCW05']\n",
            "[ 9.3         5.92       17.5        19.2         8.93       10.395\n",
            " 13.65       12.85764518 16.2        11.8        18.5        15.1\n",
            " 17.6        16.35        9.         13.35       18.85       14.6\n",
            " 13.85       13.          7.645      11.65        5.925      19.25\n",
            " 18.6        18.7        17.85       10.          8.85        9.8\n",
            " 13.6        21.35       12.15        6.42       19.6        15.85\n",
            "  7.39       10.195       9.895      10.895       7.905       9.195\n",
            "  8.365       7.97       17.7        19.35        8.645      15.6\n",
            " 18.25        7.855       7.825       8.39       12.85       19.\n",
            "  5.905       7.76       16.75       15.5         6.055       6.305\n",
            " 20.85       20.75        8.895      19.7         8.75       13.3\n",
            "  8.31       19.75       17.1        10.5         6.635      14.15\n",
            "  8.89        9.1         7.5        16.85        7.485      11.6\n",
            " 12.65       20.25        8.6        12.6         8.88       20.5\n",
            " 13.5         7.235       6.92        8.02       12.8        16.6\n",
            " 14.         16.         21.25        7.365      18.35        5.465\n",
            "  7.27        6.155      19.5        15.2        14.5        13.1\n",
            " 12.3        11.1        11.3         5.75       11.35        6.525\n",
            " 10.3         5.78       11.85       18.75        5.26       16.1\n",
            "  9.5        13.8        14.65        6.67        6.11       17.2\n",
            "  6.32        4.88        5.425      14.1         7.55       17.25\n",
            " 12.         10.1         7.785      13.15        8.5         7.63\n",
            "  9.285       7.975      15.7         8.985      20.35        6.59\n",
            " 19.85        6.26       18.2         8.695       7.075       8.195\n",
            "  7.09        6.095       6.15        9.395      15.75        7.475\n",
            "  6.445      19.1        15.         16.7         7.07        6.48\n",
            "  9.695      11.15        9.6        20.7         5.5         7.895\n",
            " 17.35        7.285       6.17       11.395       7.71       12.1\n",
            " 14.35        8.1         8.05       16.5         6.785       7.575\n",
            "  7.47       15.25        7.605      18.         21.2         8.97\n",
            " 10.6         6.865      10.8        15.15       18.1         6.655\n",
            " 20.1         7.935      15.35       12.35        6.85        8.775\n",
            " 14.85        7.84       12.5         8.325       5.765       5.985\n",
            " 14.3         6.135       8.51        6.65        5.695       6.36\n",
            "  8.3         7.56        8.71        6.695      14.8        17.75\n",
            "  8.575       6.57        8.68        5.63        9.13        6.715\n",
            "  5.82        7.93        5.          7.445       6.675       8.18\n",
            "  6.98        7.435      20.6         8.355       8.975      20.2\n",
            "  5.655       5.175      20.          7.67        4.785       8.395\n",
            "  6.175       8.21        5.845       7.17        8.785       7.89\n",
            "  5.32        5.03        8.945       6.28        7.565       9.31\n",
            "  7.02        5.46        6.13        6.55       17.         16.25\n",
            "  5.15        7.865       6.575       7.06        5.785       7.42\n",
            "  6.235       6.75        5.86        5.035       6.38        5.675\n",
            " 11.5        21.         21.1         4.61        7.          6.405\n",
            " 14.7         7.68        8.185       8.655      10.85        8.42\n",
            "  7.85        4.59        7.51       11.          6.71       14.75\n",
            "  7.59        5.155       6.365       8.235       5.365       8.485\n",
            "  7.535       4.92        6.385       8.26        7.945       8.63\n",
            "  9.21        6.965       8.905       7.21        7.3         9.27\n",
            " 10.695       6.215       7.405       7.72        6.115       6.035\n",
            "  6.78       15.3         7.105       7.52        4.805       6.425\n",
            "  7.6         6.61        7.325       8.115       5.94        5.635\n",
            "  7.35        5.825       6.63        7.05        8.315       6.8\n",
            "  7.035       8.96        5.51        8.43        8.27        7.81\n",
            "  6.885       5.44        5.405       4.635      10.65        5.735\n",
            "  6.465       8.84        7.75        6.765       9.065       7.655\n",
            "  4.615       8.76        7.1         6.195       5.615       8.52\n",
            "  7.26        6.825       5.325       5.59        5.88        5.19\n",
            "  6.985       9.06        6.69        8.615       7.275       6.96\n",
            "  9.17        8.155       5.73        8.935       8.92        7.36\n",
            "  7.64        5.34        7.22        6.615       6.76        6.3\n",
            "  5.98        8.06        6.44        5.095       8.8         6.325\n",
            "  7.31        9.035       9.105       7.145       4.905       4.555\n",
            "  8.          7.315       6.89        5.945       6.86        6.935\n",
            "  6.03        7.725       5.885       7.155       6.46        5.48\n",
            "  8.01        5.8         5.305       6.905       7.96        5.11\n",
            "  8.77        7.685       8.275       8.38        8.35        9.42\n",
            "  6.775       6.4         6.895       5.485       6.52        8.67\n",
            "  5.21        5.4       ]\n",
            "['Low Fat' 'Regular' 'low fat' 'LF' 'reg']\n",
            "[0.0160473  0.01927822 0.01676007 ... 0.03518627 0.14522065 0.04487828]\n",
            "['Dairy' 'Soft Drinks' 'Meat' 'Fruits and Vegetables' 'Household'\n",
            " 'Baking Goods' 'Snack Foods' 'Frozen Foods' 'Breakfast'\n",
            " 'Health and Hygiene' 'Hard Drinks' 'Canned' 'Breads' 'Starchy Foods'\n",
            " 'Others' 'Seafood']\n",
            "[249.8092  48.2692 141.618  ...  57.5904 214.5218  75.467 ]\n",
            "['OUT049' 'OUT018' 'OUT010' 'OUT013' 'OUT027' 'OUT045' 'OUT017' 'OUT046'\n",
            " 'OUT035' 'OUT019']\n",
            "[1999 2009 1998 1987 1985 2002 2007 1997 2004]\n",
            "['Medium' 'High' 'Small']\n",
            "['Tier 1' 'Tier 3' 'Tier 2']\n",
            "['Supermarket Type1' 'Supermarket Type2' 'Grocery Store'\n",
            " 'Supermarket Type3']\n",
            "[3735.138   443.4228 2097.27   ... 7182.6504 3608.636  2778.3834]\n"
          ]
        }
      ]
    },
    {
      "cell_type": "code",
      "metadata": {
        "colab": {
          "base_uri": "https://localhost:8080/"
        },
        "id": "2_T98NxlJe38",
        "outputId": "c654a192-bd9e-4e77-b1de-7d96bf92a459"
      },
      "source": [
        "# lowfat column should be fixed for consistency\n",
        "# maybe supermarket column too but i'm going to skip for now\n",
        "# make low fat column with 'Low Fat' and 'Regular'\n",
        "\n",
        "fat_filter_1 = df['Item_Fat_Content'] == 'low fat'\n",
        "fat_filter_2 = df['Item_Fat_Content'] == 'LF'\n",
        "regular_filter = df['Item_Fat_Content'] == 'reg'\n",
        "\n",
        "df[fat_filter_2 | fat_filter_1]\n",
        "\n",
        "df.loc[fat_filter_2 | fat_filter_1, 'Item_Fat_Content'] = 'Low Fat'\n",
        "df.loc[regular_filter, 'Item_Fat_Content'] = 'Regular'\n",
        "\n",
        "print(df['Item_Fat_Content'].unique())"
      ],
      "execution_count": 140,
      "outputs": [
        {
          "output_type": "stream",
          "name": "stdout",
          "text": [
            "['Low Fat' 'Regular']\n"
          ]
        }
      ]
    },
    {
      "cell_type": "markdown",
      "metadata": {
        "id": "J6lsPDgNpSbH"
      },
      "source": [
        "8.  For any numerical columns, obtain the summary statistics of each (min, max, mean)"
      ]
    },
    {
      "cell_type": "code",
      "metadata": {
        "colab": {
          "base_uri": "https://localhost:8080/",
          "height": 205
        },
        "id": "fNY0CA4HpUnK",
        "outputId": "f8e3a134-03a8-48b0-a4e6-755cad170de1"
      },
      "source": [
        "# creat df with only numerical columns in\n",
        "\n",
        "float_df = df.select_dtypes('float64')\n",
        "float_df.head()\n",
        "\n"
      ],
      "execution_count": 141,
      "outputs": [
        {
          "output_type": "execute_result",
          "data": {
            "text/html": [
              "<div>\n",
              "<style scoped>\n",
              "    .dataframe tbody tr th:only-of-type {\n",
              "        vertical-align: middle;\n",
              "    }\n",
              "\n",
              "    .dataframe tbody tr th {\n",
              "        vertical-align: top;\n",
              "    }\n",
              "\n",
              "    .dataframe thead th {\n",
              "        text-align: right;\n",
              "    }\n",
              "</style>\n",
              "<table border=\"1\" class=\"dataframe\">\n",
              "  <thead>\n",
              "    <tr style=\"text-align: right;\">\n",
              "      <th></th>\n",
              "      <th>Item_Weight</th>\n",
              "      <th>Item_Visibility</th>\n",
              "      <th>Item_MRP</th>\n",
              "      <th>Item_Outlet_Sales</th>\n",
              "    </tr>\n",
              "  </thead>\n",
              "  <tbody>\n",
              "    <tr>\n",
              "      <th>0</th>\n",
              "      <td>9.30</td>\n",
              "      <td>0.016047</td>\n",
              "      <td>249.8092</td>\n",
              "      <td>3735.1380</td>\n",
              "    </tr>\n",
              "    <tr>\n",
              "      <th>1</th>\n",
              "      <td>5.92</td>\n",
              "      <td>0.019278</td>\n",
              "      <td>48.2692</td>\n",
              "      <td>443.4228</td>\n",
              "    </tr>\n",
              "    <tr>\n",
              "      <th>2</th>\n",
              "      <td>17.50</td>\n",
              "      <td>0.016760</td>\n",
              "      <td>141.6180</td>\n",
              "      <td>2097.2700</td>\n",
              "    </tr>\n",
              "    <tr>\n",
              "      <th>3</th>\n",
              "      <td>19.20</td>\n",
              "      <td>0.000000</td>\n",
              "      <td>182.0950</td>\n",
              "      <td>732.3800</td>\n",
              "    </tr>\n",
              "    <tr>\n",
              "      <th>4</th>\n",
              "      <td>8.93</td>\n",
              "      <td>0.000000</td>\n",
              "      <td>53.8614</td>\n",
              "      <td>994.7052</td>\n",
              "    </tr>\n",
              "  </tbody>\n",
              "</table>\n",
              "</div>"
            ],
            "text/plain": [
              "   Item_Weight  Item_Visibility  Item_MRP  Item_Outlet_Sales\n",
              "0         9.30         0.016047  249.8092          3735.1380\n",
              "1         5.92         0.019278   48.2692           443.4228\n",
              "2        17.50         0.016760  141.6180          2097.2700\n",
              "3        19.20         0.000000  182.0950           732.3800\n",
              "4         8.93         0.000000   53.8614           994.7052"
            ]
          },
          "metadata": {},
          "execution_count": 141
        }
      ]
    },
    {
      "cell_type": "code",
      "metadata": {
        "colab": {
          "base_uri": "https://localhost:8080/"
        },
        "id": "u4S4IYI_zKtS",
        "outputId": "7454549e-668a-4bcd-a1c4-808a85493920"
      },
      "source": [
        "for col in float_df:\n",
        "    min = float_df[col].min()\n",
        "    max = float_df[col].max()\n",
        "    mean = float_df[col].mean()\n",
        "    print(col, 'summary statistics are:', 'min=', min, 'max=', max, 'mean=', mean )\n",
        "\n",
        "# not sure if groupby or pivot can be used here and how??  "
      ],
      "execution_count": 142,
      "outputs": [
        {
          "output_type": "stream",
          "name": "stdout",
          "text": [
            "Item_Weight summary statistics are: min= 4.555 max= 21.35 mean= 12.857645184136409\n",
            "Item_Visibility summary statistics are: min= 0.0 max= 0.328390948 mean= 0.06613202877895127\n",
            "Item_MRP summary statistics are: min= 31.29 max= 266.8884 mean= 140.9927819781768\n",
            "Item_Outlet_Sales summary statistics are: min= 33.29 max= 13086.9648 mean= 2181.2889135750365\n"
          ]
        }
      ]
    }
  ]
}